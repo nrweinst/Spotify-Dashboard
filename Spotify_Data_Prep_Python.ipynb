{
 "cells": [
  {
   "cell_type": "markdown",
   "id": "8367b95e",
   "metadata": {},
   "source": [
    "Parameters"
   ]
  },
  {
   "cell_type": "code",
   "execution_count": null,
   "id": "e93b8919",
   "metadata": {},
   "outputs": [],
   "source": [
    "#Spotify API requires you to set-up an app to use its developer tools\n",
    "#Find out more at the following link and use it to fill in secret and cid in the cell below\n",
    "print('https://developer.spotify.com/documentation/web-api/concepts/apps')"
   ]
  },
  {
   "cell_type": "code",
   "execution_count": 2,
   "id": "745ac6a1",
   "metadata": {},
   "outputs": [],
   "source": [
    "#Spotify login info\n",
    "\n",
    "secret =    #Fill in\n",
    "cid =       #Fill in\n",
    "\n",
    "#Your name\n",
    "your_name = 'My_Name'\n",
    "\n",
    "#CSV file names\n",
    "your_listening_csv = your_name + '_listen_data.csv'\n",
    "audio_details_csv = your_name + '_audio_data.csv'\n",
    "track_det_csv = your_name + '_track_data.csv'\n",
    "art_csv = your_name + '_art_data.csv'\n"
   ]
  },
  {
   "cell_type": "markdown",
   "id": "faeaf2eb",
   "metadata": {},
   "source": [
    "Upload personal data"
   ]
  },
  {
   "cell_type": "code",
   "execution_count": 13,
   "id": "a35848f3",
   "metadata": {},
   "outputs": [
    {
     "name": "stdout",
     "output_type": "stream",
     "text": [
      "(60076, 21)\n"
     ]
    },
    {
     "data": {
      "text/plain": [
       "60076"
      ]
     },
     "execution_count": 13,
     "metadata": {},
     "output_type": "execute_result"
    }
   ],
   "source": [
    "import os, json\n",
    "import pandas as pd\n",
    "\n",
    "# Identify all json files in current directory\n",
    "json_files = [pos_json for pos_json in os.listdir(os.getcwd()) if pos_json.endswith('.json')]\n",
    "\n",
    "# Add all json data to dataframe\n",
    "listening_df = None\n",
    "for file_name in json_files:\n",
    "    single_file_listening=pd.read_json(file_name)\n",
    "    listening_df=pd.concat(objs=[listening_df,single_file_listening], ignore_index=True)\n",
    "\n",
    "#Eport listening data to csv\n",
    "print(listening_df.shape)\n",
    "listening_df = listening_df[['ts','conn_country',\n",
    "       'master_metadata_track_name', 'master_metadata_album_artist_name',\n",
    "       'master_metadata_album_album_name', 'spotify_track_uri','reason_end', 'ms_played']]\n",
    "\n",
    "listening_df.rename(columns={'ts': 'Time Played', 'master_metadata_track_name': 'Track',\n",
    "                   'master_metadata_album_artist_name': 'Artist', 'master_metadata_album_album_name': 'Album'}\n",
    "                    , inplace=True)\n",
    "\n",
    "listening_df.to_csv(your_listening_csv, encoding='utf-8', index=False)\n",
    "len(listening_df)"
   ]
  },
  {
   "cell_type": "code",
   "execution_count": 3,
   "id": "bac0875f",
   "metadata": {},
   "outputs": [
    {
     "name": "stdout",
     "output_type": "stream",
     "text": [
      "['ts', 'username', 'platform', 'ms_played', 'conn_country', 'ip_addr_decrypted', 'user_agent_decrypted', 'master_metadata_track_name', 'master_metadata_album_artist_name', 'master_metadata_album_album_name', 'spotify_track_uri', 'episode_name', 'episode_show_name', 'spotify_episode_uri', 'reason_start', 'reason_end', 'shuffle', 'skipped', 'offline', 'offline_timestamp', 'incognito_mode']\n"
     ]
    }
   ],
   "source": [
    "import os, json\n",
    "import pandas as pd\n",
    "\n",
    "# Identify all json files in current directory\n",
    "path_to_json = 'json/'\n",
    "json_files = [pos_json for pos_json in os.listdir(os.getcwd()) if pos_json.endswith('.json')]\n",
    "\n",
    "# Add all json data to dataframe\n",
    "listening_df = None\n",
    "for file_name in json_files:\n",
    "    single_file_listening=pd.read_json(file_name)\n",
    "    listening_df=pd.concat(objs=[listening_df,single_file_listening], ignore_index=True)\n",
    "\n",
    "#Eport listening data to csv\n",
    "print(listening_df.columns.values.tolist())"
   ]
  },
  {
   "cell_type": "markdown",
   "id": "66f367bc",
   "metadata": {},
   "source": [
    "Create chunked list of unique songs"
   ]
  },
  {
   "cell_type": "code",
   "execution_count": 4,
   "id": "fa6a4785",
   "metadata": {},
   "outputs": [
    {
     "name": "stdout",
     "output_type": "stream",
     "text": [
      "200\n"
     ]
    }
   ],
   "source": [
    "import pandas as pd\n",
    "import numpy as np\n",
    "\n",
    "unique_songs_array = pd.unique(listening_df['spotify_track_uri'])\n",
    "\n",
    "#investigate pd is not null\n",
    "unique_songs_array = unique_songs_array[unique_songs_array!=None]\n",
    "unique_songs_array = [i for i in unique_songs_array if i is not np.nan]\n",
    "\n",
    "chunks = [unique_songs_array[x:x+100] for x in range(0, len(unique_songs_array), 100)]\n",
    "print(len(chunks))\n",
    "# print(unique_songs_array)"
   ]
  },
  {
   "cell_type": "markdown",
   "id": "5f842e85",
   "metadata": {},
   "source": [
    "Retrieve audio data from spotify"
   ]
  },
  {
   "cell_type": "code",
   "execution_count": 6,
   "id": "b3ba4ab6",
   "metadata": {},
   "outputs": [
    {
     "name": "stdout",
     "output_type": "stream",
     "text": [
      "(19929, 3)\n"
     ]
    }
   ],
   "source": [
    "import spotipy\n",
    "from spotipy.oauth2 import SpotifyClientCredentials\n",
    "from time import sleep\n",
    "\n",
    "\n",
    "#Authentication - without user\n",
    "client_credentials_manager = SpotifyClientCredentials(client_id=cid, client_secret=secret)\n",
    "sp = spotipy.Spotify(client_credentials_manager = client_credentials_manager, requests_timeout=10, retries=10)\n",
    "audio_data=[]\n",
    "for batch in chunks:\n",
    "    for track in sp.audio_features(batch):\n",
    "        try: \n",
    "            audio_data.append(track)\n",
    "        except:\n",
    "            break\n",
    "    sleep(1.5)\n",
    "\n",
    "\n",
    "audio_data = [i for i in audio_data if i is not None]    \n",
    "audio_df = pd.DataFrame(audio_data)\n",
    "audio_df_concise = audio_df[['danceability','energy', 'uri']]\n",
    "# print(song_data)\n",
    "print(audio_df_concise.shape)\n",
    "audio_df_concise.to_csv(audio_details_csv, encoding='utf-8', index=False)"
   ]
  },
  {
   "cell_type": "markdown",
   "id": "c80a65ee",
   "metadata": {},
   "source": [
    "Make smaller chunks for track details"
   ]
  },
  {
   "cell_type": "code",
   "execution_count": 7,
   "id": "ef7c467c",
   "metadata": {},
   "outputs": [],
   "source": [
    "# Make smaller chunks\n",
    "import numpy as np\n",
    "from scipy.special import entr\n",
    "\n",
    "unique_songs_array = pd.unique(listening_df['spotify_track_uri'])\n",
    "unique_songs_array = unique_songs_array[unique_songs_array!=None]\n",
    "unique_songs_array = [i for i in unique_songs_array if i is not np.nan]\n",
    "small_chunks = [unique_songs_array[x:x+50] for x in range(0, len(unique_songs_array), 50)]"
   ]
  },
  {
   "cell_type": "markdown",
   "id": "8cc87bc4",
   "metadata": {},
   "source": [
    "Import track data"
   ]
  },
  {
   "cell_type": "code",
   "execution_count": 9,
   "id": "d74c1ae5",
   "metadata": {},
   "outputs": [
    {
     "name": "stdout",
     "output_type": "stream",
     "text": [
      "(19929, 3)\n"
     ]
    }
   ],
   "source": [
    "import spotipy\n",
    "from spotipy.oauth2 import SpotifyClientCredentials\n",
    "from time import sleep\n",
    "\n",
    "client_credentials_manager = SpotifyClientCredentials(client_id=cid, client_secret=secret) \n",
    "sp = spotipy.Spotify(client_credentials_manager = client_credentials_manager, requests_timeout=10, retries=10)\n",
    "\n",
    "track_det_data=[]\n",
    "for small_batch in small_chunks:\n",
    "    for track_det in sp.tracks(small_batch)['tracks']:\n",
    "        try: \n",
    "            track_det_data.append(track_det)\n",
    "        except:\n",
    "            break\n",
    "    sleep(1.5)\n",
    "\n",
    "\n",
    "track_det_data = [i for i in track_det_data if i is not None]\n",
    "track_det_df = pd.DataFrame(track_det_data)\n",
    "track_det_data_concise =  track_det_df[['popularity', 'uri','artists']]\n",
    "# print(song_data)\n",
    "print(track_det_data_concise.shape)\n",
    "track_det_data_concise.to_csv(track_det_csv, encoding='utf-8', index=False)"
   ]
  },
  {
   "cell_type": "markdown",
   "id": "e1bde490",
   "metadata": {},
   "source": [
    "Retrieve Artist IDs"
   ]
  },
  {
   "cell_type": "code",
   "execution_count": 4,
   "id": "9411e337",
   "metadata": {},
   "outputs": [],
   "source": [
    "import pandas as pd\n",
    "track_det_data=pd.read_csv(track_det_csv)\n",
    "\n",
    "art_ids=pd.DataFrame()\n",
    "art_ids['artist_ids']=track_det_data['artists'].str.extract(r\"((?<=id': ').*?(?='))\")\n",
    "\n"
   ]
  },
  {
   "cell_type": "markdown",
   "id": "ded95a91",
   "metadata": {},
   "source": [
    "Make artist chunks"
   ]
  },
  {
   "cell_type": "code",
   "execution_count": 5,
   "id": "3754080a",
   "metadata": {},
   "outputs": [],
   "source": [
    "# Make smaller chunks\n",
    "import numpy as np\n",
    "import pandas as pd\n",
    "from scipy.special import entr\n",
    "\n",
    "unique_art_array = pd.unique(art_ids['artist_ids'])\n",
    "unique_art_array = unique_art_array[unique_art_array!=None]\n",
    "unique_art_array = [i for i in unique_art_array if i is not np.nan]\n",
    "art_chunks = [unique_art_array[x:x+50] for x in range(0, len(unique_art_array), 50)]"
   ]
  },
  {
   "cell_type": "markdown",
   "id": "da9cc0b7",
   "metadata": {},
   "source": [
    "Import artist details"
   ]
  },
  {
   "cell_type": "code",
   "execution_count": 6,
   "id": "1646c192",
   "metadata": {},
   "outputs": [
    {
     "name": "stderr",
     "output_type": "stream",
     "text": [
      "C:\\Users\\nrwei\\AppData\\Local\\Temp\\ipykernel_12036\\2034257961.py:22: SettingWithCopyWarning: \n",
      "A value is trying to be set on a copy of a slice from a DataFrame\n",
      "\n",
      "See the caveats in the documentation: https://pandas.pydata.org/pandas-docs/stable/user_guide/indexing.html#returning-a-view-versus-a-copy\n",
      "  art_concise_df.rename(columns={'genres': 'genre', 'id': 'artist_id'}, inplace=True)\n"
     ]
    }
   ],
   "source": [
    "import spotipy\n",
    "from spotipy.oauth2 import SpotifyClientCredentials\n",
    "from time import sleep\n",
    "\n",
    "client_credentials_manager = SpotifyClientCredentials(client_id=cid, client_secret=secret) \n",
    "sp = spotipy.Spotify(client_credentials_manager = client_credentials_manager, requests_timeout=10, retries=10)\n",
    "\n",
    "art_data=[]\n",
    "for art_batch in art_chunks:\n",
    "    for art_det in sp.artists(art_batch)['artists']:\n",
    "        try: \n",
    "            art_data.append(art_det)\n",
    "        except:\n",
    "            break\n",
    "    sleep(1.5)\n",
    "\n",
    "\n",
    "art_data = [i for i in art_data if i is not None]\n",
    "art_df = pd.DataFrame(art_data)\n",
    "\n",
    "art_concise_df =  art_df[['genres','id']]\n",
    "art_concise_df.rename(columns={'genres': 'genre', 'id': 'artist_id'}, inplace=True)\n",
    "\n",
    "art_concise_df.to_csv(art_csv, encoding='utf-8', index=False)\n",
    "   "
   ]
  },
  {
   "cell_type": "markdown",
   "id": "9d62399f",
   "metadata": {},
   "source": [
    "Import data from CSVs"
   ]
  },
  {
   "cell_type": "code",
   "execution_count": null,
   "id": "238d8df9",
   "metadata": {},
   "outputs": [],
   "source": [
    "audio_data=pd.read_csv(audio_details_csv)\n",
    "listen_data = pd.read_csv(your_listening_csv)\n",
    "track_det_data=pd.read_csv(track_det_csv)"
   ]
  },
  {
   "cell_type": "code",
   "execution_count": null,
   "id": "36b17c7a",
   "metadata": {},
   "outputs": [],
   "source": [
    "from pyexcelerate import Workbook\n",
    "\n",
    "track_temp_table=audio_data.merge(track_det_data, left_on='uri', right_on='uri')\n",
    "master_table = track_temp_table.merge(listen_data, left_on='uri', right_on='spotify_track_uri')\n",
    "\n",
    "master_table.to_csv(your_name + '_master_data.csv', encoding='utf-8', index=False)"
   ]
  },
  {
   "cell_type": "markdown",
   "id": "488ba9c4",
   "metadata": {},
   "source": [
    "Prep artist dataset"
   ]
  },
  {
   "cell_type": "code",
   "execution_count": null,
   "id": "9aeb73b1",
   "metadata": {},
   "outputs": [],
   "source": [
    "#Import Data from CSVs (specified in parameters)\n",
    "track_det_data=pd.read_csv(track_det_csv)\n",
    "track_det_data['artists']=track_det_data['artists'].str.extract(r\"((?<=id': ').*?(?='))\")   #isolate artist\n",
    "listen_data = pd.read_csv(your_listening_csv)\n",
    "art_data=pd.read_csv(art_csv)\n",
    "\n",
    "#Create Genre List\n",
    "full_genre_list=[]\n",
    "for i in range(art_data.shape[0]):\n",
    "    temp_genre_list = art_data['genre'][i].strip(\"][\").split(', ')\n",
    "    temp_genre_list = [s.strip(\"'\") for s in temp_genre_list]\n",
    "    art_data['genre'][i]= temp_genre_list\n",
    "    for j in range(len(temp_genre_list)):\n",
    "        full_genre_list.append(temp_genre_list[j])\n",
    "genre_list=list(set(full_genre_list))\n",
    "\n",
    "#Create a row for every genre each track has (5 genres, 5 rows)\n",
    "art_genre_data = pd.DataFrame({\n",
    "      col:np.repeat(art_data[col].values, art_data['genre'].str.len())\n",
    "      for col in art_data.columns.drop('genre')}\n",
    "    ).assign(**{'genre':np.concatenate(art_data['genre'].values)})[art_data.columns]"
   ]
  },
  {
   "cell_type": "markdown",
   "id": "8317ec38",
   "metadata": {},
   "source": [
    "Create artist dataset and export to csv"
   ]
  },
  {
   "cell_type": "code",
   "execution_count": null,
   "id": "0bc1ad03",
   "metadata": {},
   "outputs": [],
   "source": [
    "art_temp_table_1=art_genre_data.merge(track_det_data, left_on='artist_id', right_on='artists')\n",
    "art_temp_table_2=art_temp_table_1.merge(audio_data, left_on='uri', right_on='uri')\n",
    "art_full_table = art_temp_table_2.merge(listen_data, left_on='uri', right_on='spotify_track_uri')\n",
    "\n",
    "art_full_table.to_csv(your_name + '_art_master_data.csv', encoding='utf-8', index=False)"
   ]
  }
 ],
 "metadata": {
  "kernelspec": {
   "display_name": "Python 3 (ipykernel)",
   "language": "python",
   "name": "python3"
  },
  "language_info": {
   "codemirror_mode": {
    "name": "ipython",
    "version": 3
   },
   "file_extension": ".py",
   "mimetype": "text/x-python",
   "name": "python",
   "nbconvert_exporter": "python",
   "pygments_lexer": "ipython3",
   "version": "3.11.4"
  }
 },
 "nbformat": 4,
 "nbformat_minor": 5
}
